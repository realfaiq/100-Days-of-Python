{
 "cells": [
  {
   "cell_type": "code",
   "execution_count": 1,
   "id": "1ff6928f",
   "metadata": {},
   "outputs": [],
   "source": [
    "import random\n",
    "import json\n",
    "import pickle\n",
    "import numpy as np\n",
    "import nltk\n",
    "from nltk.stem import WordNetLemmatizer\n",
    "from tensorflow.keras.models import load_model"
   ]
  },
  {
   "cell_type": "code",
   "execution_count": 2,
   "id": "0bdd56a0",
   "metadata": {},
   "outputs": [],
   "source": [
    "lemmatizer = WordNetLemmatizer()\n",
    "intents = json.loads(open('intents.json').read())"
   ]
  },
  {
   "cell_type": "code",
   "execution_count": 3,
   "id": "34d59cfd",
   "metadata": {},
   "outputs": [],
   "source": [
    "words = pickle.load(open('words.pkl', 'rb'))\n",
    "classes = pickle.load(open('classes.pkl', 'rb'))\n",
    "model = load_model('chatbotmodel.h5')"
   ]
  },
  {
   "cell_type": "markdown",
   "id": "a9f759e5",
   "metadata": {},
   "source": [
    "### Cleaning Up Sentence"
   ]
  },
  {
   "cell_type": "code",
   "execution_count": 4,
   "id": "450d61e0",
   "metadata": {},
   "outputs": [],
   "source": [
    "def clean_up_sentence(sentence):\n",
    "    sentence_words = nltk.word_tokenize(sentence)\n",
    "    sentence_words = [lemmatizer.lemmatize(word) for word in sentence_words]\n",
    "    return sentence_words"
   ]
  },
  {
   "cell_type": "markdown",
   "id": "f71d557b",
   "metadata": {},
   "source": [
    "### Sentence to Bag of words"
   ]
  },
  {
   "cell_type": "code",
   "execution_count": 5,
   "id": "8c1af655",
   "metadata": {},
   "outputs": [],
   "source": [
    "def bag_of_words(sentence):\n",
    "    sentence_words = clean_up_sentence(sentence)\n",
    "    bag = [0] * len(words)\n",
    "    for w in sentence_words:\n",
    "        for i, word in enumerate(words):\n",
    "            if word == w:\n",
    "                bag[i] = 1\n",
    "    return np.array(bag)"
   ]
  },
  {
   "cell_type": "markdown",
   "id": "0d854620",
   "metadata": {},
   "source": [
    "### Predict "
   ]
  },
  {
   "cell_type": "code",
   "execution_count": 6,
   "id": "b2651558",
   "metadata": {},
   "outputs": [],
   "source": [
    "def predict_class(sentence):\n",
    "    bow = bag_of_words(sentence)\n",
    "    res = model.predict(np.array([bow]))[0]\n",
    "    ERROR_THRESHOLD = 0.25\n",
    "    results = [[i,r] for i,r in enumerate(res) if r > ERROR_THRESHOLD]\n",
    "    results.sort(key = lambda x: x[1], reverse = True)\n",
    "    return_list = []\n",
    "    for r in results:\n",
    "        return_list.append({'intent': classes[r[0]], 'probability': str(r[1])})\n",
    "    return return_list"
   ]
  },
  {
   "cell_type": "markdown",
   "id": "58a647d9",
   "metadata": {},
   "source": [
    "### Chat Bot Response Code"
   ]
  },
  {
   "cell_type": "code",
   "execution_count": 7,
   "id": "e3bb5627",
   "metadata": {},
   "outputs": [],
   "source": [
    "def get_response(intents_list, intents_json):\n",
    "    tag = intents_list[0]['intent']\n",
    "    list_of_intents = intents_json['intents']\n",
    "    for i in list_of_intents:\n",
    "        if i['tag'] == tag:\n",
    "            result = random.choice(i['responses'])\n",
    "            break\n",
    "    return result"
   ]
  },
  {
   "cell_type": "code",
   "execution_count": null,
   "id": "dea2e29b",
   "metadata": {},
   "outputs": [
    {
     "name": "stdout",
     "output_type": "stream",
     "text": [
      "Aleeza Bot! is running\n",
      "hey\n",
      "1/1 [==============================] - 0s 113ms/step\n",
      "How may I assist you today?\n",
      "i'm feeling a bit down\n",
      "1/1 [==============================] - 0s 33ms/step\n",
      "Be positive! Everything will be fine!\n",
      "what's your name?\n",
      "1/1 [==============================] - 0s 29ms/step\n",
      "My name is Aleeza the Chatbot! and I'm a chat bot!\n",
      "who made you?\n",
      "1/1 [==============================] - 0s 28ms/step\n",
      "My owner is Faiq Ahmad\n",
      "what's your age?\n",
      "1/1 [==============================] - 0s 29ms/step\n",
      "I'm 22 years old.\n",
      "i love u\n",
      "1/1 [==============================] - 0s 29ms/step\n",
      "As an AI chatbot I can't have any feelings for you I'm sorry!\n",
      "how old are you?\n",
      "1/1 [==============================] - 0s 29ms/step\n",
      "I'm 22 years old.\n",
      "your sleep cycle?\n",
      "1/1 [==============================] - 0s 30ms/step\n",
      "As an AI chatbot I don't sleep\n",
      "I have to go now bye\n",
      "1/1 [==============================] - 0s 27ms/step\n",
      "It was great talking to you! Bye\n"
     ]
    }
   ],
   "source": [
    "print(\"Aleeza Bot! is running\")\n",
    "while(True):\n",
    "    message = input(\"\")\n",
    "    ints = predict_class(message)\n",
    "    res = get_response(ints, intents)\n",
    "    print(res)"
   ]
  },
  {
   "cell_type": "code",
   "execution_count": null,
   "id": "45f5415a",
   "metadata": {},
   "outputs": [],
   "source": []
  }
 ],
 "metadata": {
  "kernelspec": {
   "display_name": "Python 3 (ipykernel)",
   "language": "python",
   "name": "python3"
  },
  "language_info": {
   "codemirror_mode": {
    "name": "ipython",
    "version": 3
   },
   "file_extension": ".py",
   "mimetype": "text/x-python",
   "name": "python",
   "nbconvert_exporter": "python",
   "pygments_lexer": "ipython3",
   "version": "3.11.2"
  }
 },
 "nbformat": 4,
 "nbformat_minor": 5
}
