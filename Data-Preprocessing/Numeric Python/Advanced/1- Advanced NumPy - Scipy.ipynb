{
 "cells": [
  {
   "cell_type": "markdown",
   "id": "6085be1d",
   "metadata": {},
   "source": [
    "### Bad Data"
   ]
  },
  {
   "cell_type": "code",
   "execution_count": 3,
   "id": "bbac8690",
   "metadata": {},
   "outputs": [],
   "source": [
    "gene0 = [100, 200, 50, 400]\n",
    "gene1 = [50, 0, 0, 100]\n",
    "gene2 = [350, 100, 50, 200]\n",
    "expression_data = [gene0, gene1, gene2]"
   ]
  },
  {
   "cell_type": "markdown",
   "id": "2521884a",
   "metadata": {},
   "source": [
    "<i>Because the data in the lists are not contegious one is stored somewhere in the memory having a reference count and the other\n",
    "somewhere else while numPy array creates one object as a whole having one reference count of that and contegious.</i>"
   ]
  },
  {
   "cell_type": "code",
   "execution_count": 4,
   "id": "be0fa06a",
   "metadata": {},
   "outputs": [
    {
     "data": {
      "text/plain": [
       "[[100, 200, 50, 400], [50, 0, 0, 100], [350, 100, 50, 200]]"
      ]
     },
     "execution_count": 4,
     "metadata": {},
     "output_type": "execute_result"
    }
   ],
   "source": [
    "expression_data"
   ]
  },
  {
   "cell_type": "markdown",
   "id": "48fb86f6",
   "metadata": {},
   "source": [
    "### NumPy"
   ]
  },
  {
   "cell_type": "code",
   "execution_count": 5,
   "id": "40063b53",
   "metadata": {},
   "outputs": [
    {
     "name": "stdout",
     "output_type": "stream",
     "text": [
      "[[100 200  50 400]\n",
      " [ 50   0   0 100]\n",
      " [350 100  50 200]]\n"
     ]
    }
   ],
   "source": [
    "import numpy as np\n",
    "a = np.array(expression_data)\n",
    "print(a)"
   ]
  },
  {
   "cell_type": "markdown",
   "id": "fe93f23a",
   "metadata": {},
   "source": [
    "We are going to:\n",
    "\n",
    "<ul>\n",
    "<li> Obtain an RPKM expression matrix\n",
    "<li>Quantile normalize the data \n",
    "</ul>\n",
    "using the awesome power of NumPy"
   ]
  },
  {
   "cell_type": "markdown",
   "id": "c9960e87",
   "metadata": {},
   "source": [
    "### Inside a numPy nd Array"
   ]
  },
  {
   "cell_type": "code",
   "execution_count": 6,
   "id": "aca6e761",
   "metadata": {},
   "outputs": [
    {
     "name": "stdout",
     "output_type": "stream",
     "text": [
      "number of elements: 12\n",
      "number of dimensions: 2\n",
      "shape: (3, 4)\n",
      "data type: int32\n",
      "strides: (16, 4)\n",
      "flags:\n",
      "  C_CONTIGUOUS : True\n",
      "  F_CONTIGUOUS : False\n",
      "  OWNDATA : True\n",
      "  WRITEABLE : True\n",
      "  ALIGNED : True\n",
      "  WRITEBACKIFCOPY : False\n",
      "\n"
     ]
    }
   ],
   "source": [
    "def print_info(a):\n",
    "    print('number of elements:', a.size)\n",
    "    print('number of dimensions:', a.ndim)\n",
    "    print('shape:', a.shape)\n",
    "    print('data type:', a.dtype)\n",
    "    print('strides:', a.strides)\n",
    "    print('flags:')\n",
    "    print(a.flags)\n",
    "    \n",
    "print_info(a)"
   ]
  },
  {
   "cell_type": "code",
   "execution_count": 7,
   "id": "fcf9fa72",
   "metadata": {},
   "outputs": [
    {
     "name": "stdout",
     "output_type": "stream",
     "text": [
      "<memory at 0x00000146B9AC57D0>\n"
     ]
    }
   ],
   "source": [
    "print(a.data)"
   ]
  },
  {
   "cell_type": "markdown",
   "id": "bfffa9ed",
   "metadata": {},
   "source": [
    "### Ravel\n",
    "<i>Changes the dimesion of array to 1d<i/>"
   ]
  },
  {
   "cell_type": "code",
   "execution_count": 8,
   "id": "2230f066",
   "metadata": {},
   "outputs": [
    {
     "data": {
      "text/plain": [
       "(12,)"
      ]
     },
     "execution_count": 8,
     "metadata": {},
     "output_type": "execute_result"
    }
   ],
   "source": [
    "a.ravel().shape"
   ]
  },
  {
   "cell_type": "code",
   "execution_count": 9,
   "id": "7646aca6",
   "metadata": {},
   "outputs": [],
   "source": [
    "abytes = a.ravel().view(dtype = np.uint8)"
   ]
  },
  {
   "cell_type": "code",
   "execution_count": 10,
   "id": "5fd2ba96",
   "metadata": {},
   "outputs": [
    {
     "name": "stdout",
     "output_type": "stream",
     "text": [
      "number of elements: 48\n",
      "number of dimensions: 1\n",
      "shape: (48,)\n",
      "data type: uint8\n",
      "strides: (1,)\n",
      "flags:\n",
      "  C_CONTIGUOUS : True\n",
      "  F_CONTIGUOUS : True\n",
      "  OWNDATA : False\n",
      "  WRITEABLE : True\n",
      "  ALIGNED : True\n",
      "  WRITEBACKIFCOPY : False\n",
      "\n"
     ]
    }
   ],
   "source": [
    "print_info(abytes)"
   ]
  },
  {
   "cell_type": "code",
   "execution_count": 11,
   "id": "e55dfdf8",
   "metadata": {},
   "outputs": [
    {
     "name": "stdout",
     "output_type": "stream",
     "text": [
      "[100   0   0   0 200   0   0   0  50   0   0   0 144   1   0   0  50   0\n",
      "   0   0   0   0   0   0]\n"
     ]
    }
   ],
   "source": [
    "print(abytes[:24])"
   ]
  },
  {
   "cell_type": "markdown",
   "id": "8341b238",
   "metadata": {},
   "source": [
    "### Example of Transpose"
   ]
  },
  {
   "cell_type": "code",
   "execution_count": 12,
   "id": "f1f5bdaa",
   "metadata": {},
   "outputs": [
    {
     "name": "stdout",
     "output_type": "stream",
     "text": [
      "number of elements: 12\n",
      "number of dimensions: 2\n",
      "shape: (3, 4)\n",
      "data type: int32\n",
      "strides: (16, 4)\n",
      "flags:\n",
      "  C_CONTIGUOUS : True\n",
      "  F_CONTIGUOUS : False\n",
      "  OWNDATA : True\n",
      "  WRITEABLE : True\n",
      "  ALIGNED : True\n",
      "  WRITEBACKIFCOPY : False\n",
      "\n"
     ]
    }
   ],
   "source": [
    "print_info(a)"
   ]
  },
  {
   "cell_type": "code",
   "execution_count": 13,
   "id": "cda9b524",
   "metadata": {},
   "outputs": [
    {
     "name": "stdout",
     "output_type": "stream",
     "text": [
      "number of elements: 12\n",
      "number of dimensions: 2\n",
      "shape: (4, 3)\n",
      "data type: int32\n",
      "strides: (4, 16)\n",
      "flags:\n",
      "  C_CONTIGUOUS : False\n",
      "  F_CONTIGUOUS : True\n",
      "  OWNDATA : False\n",
      "  WRITEABLE : True\n",
      "  ALIGNED : True\n",
      "  WRITEBACKIFCOPY : False\n",
      "\n"
     ]
    }
   ],
   "source": [
    "print_info(a.T)"
   ]
  },
  {
   "cell_type": "code",
   "execution_count": 14,
   "id": "a5a3cdab",
   "metadata": {},
   "outputs": [
    {
     "name": "stdout",
     "output_type": "stream",
     "text": [
      "number of elements: 6\n",
      "number of dimensions: 2\n",
      "shape: (2, 3)\n",
      "data type: int32\n",
      "strides: (8, 16)\n",
      "flags:\n",
      "  C_CONTIGUOUS : False\n",
      "  F_CONTIGUOUS : False\n",
      "  OWNDATA : False\n",
      "  WRITEABLE : True\n",
      "  ALIGNED : True\n",
      "  WRITEBACKIFCOPY : False\n",
      "\n"
     ]
    }
   ],
   "source": [
    "#Every 2nd row of a\n",
    "print_info(a.T[::2])"
   ]
  },
  {
   "cell_type": "code",
   "execution_count": 15,
   "id": "2f32f73f",
   "metadata": {},
   "outputs": [
    {
     "name": "stdout",
     "output_type": "stream",
     "text": [
      "number of elements: 3\n",
      "number of dimensions: 2\n",
      "shape: (1, 3)\n",
      "data type: int32\n",
      "strides: (16, 16)\n",
      "flags:\n",
      "  C_CONTIGUOUS : False\n",
      "  F_CONTIGUOUS : False\n",
      "  OWNDATA : False\n",
      "  WRITEABLE : True\n",
      "  ALIGNED : True\n",
      "  WRITEBACKIFCOPY : False\n",
      "\n"
     ]
    }
   ],
   "source": [
    "#Skip every 2nd Column\n",
    "print_info(a.T[::2][::2])"
   ]
  },
  {
   "cell_type": "markdown",
   "id": "09281dbb",
   "metadata": {},
   "source": [
    "### Copying\n",
    "<i>If we don't use a copy() then if you modify copy it will modify the original array<i/>  "
   ]
  },
  {
   "cell_type": "code",
   "execution_count": 16,
   "id": "9f707645",
   "metadata": {},
   "outputs": [],
   "source": [
    "b = a.copy()"
   ]
  },
  {
   "cell_type": "code",
   "execution_count": 17,
   "id": "950e9b4d",
   "metadata": {},
   "outputs": [],
   "source": [
    "b[0][0] = 1"
   ]
  },
  {
   "cell_type": "code",
   "execution_count": 18,
   "id": "f0a19357",
   "metadata": {},
   "outputs": [
    {
     "data": {
      "text/plain": [
       "array([[100, 200,  50, 400],\n",
       "       [ 50,   0,   0, 100],\n",
       "       [350, 100,  50, 200]])"
      ]
     },
     "execution_count": 18,
     "metadata": {},
     "output_type": "execute_result"
    }
   ],
   "source": [
    "a"
   ]
  },
  {
   "cell_type": "code",
   "execution_count": 19,
   "id": "2c536628",
   "metadata": {},
   "outputs": [
    {
     "data": {
      "text/plain": [
       "array([[  1, 200,  50, 400],\n",
       "       [ 50,   0,   0, 100],\n",
       "       [350, 100,  50, 200]])"
      ]
     },
     "execution_count": 19,
     "metadata": {},
     "output_type": "execute_result"
    }
   ],
   "source": [
    "b"
   ]
  },
  {
   "cell_type": "markdown",
   "id": "9621f6cf",
   "metadata": {},
   "source": [
    "### Advanced Operations - Axis wise Operations"
   ]
  },
  {
   "cell_type": "code",
   "execution_count": 20,
   "id": "2cf9320d",
   "metadata": {},
   "outputs": [],
   "source": [
    "expr = np.load('C:/Users/Dell/Desktop/data-set/expr.npy')"
   ]
  },
  {
   "cell_type": "code",
   "execution_count": 21,
   "id": "aaf68ee4",
   "metadata": {},
   "outputs": [
    {
     "name": "stdout",
     "output_type": "stream",
     "text": [
      "number of elements: 7687500\n",
      "number of dimensions: 2\n",
      "shape: (20500, 375)\n",
      "data type: uint32\n",
      "strides: (4, 82000)\n",
      "flags:\n",
      "  C_CONTIGUOUS : False\n",
      "  F_CONTIGUOUS : True\n",
      "  OWNDATA : False\n",
      "  WRITEABLE : True\n",
      "  ALIGNED : True\n",
      "  WRITEBACKIFCOPY : False\n",
      "\n"
     ]
    }
   ],
   "source": [
    "print_info(expr)"
   ]
  },
  {
   "cell_type": "code",
   "execution_count": 22,
   "id": "0c36f28e",
   "metadata": {},
   "outputs": [
    {
     "data": {
      "text/plain": [
       "array([[     0,      0,      0, ...,      0,     18,      0],\n",
       "       [    12,      1,      0, ...,      2,      3,      4],\n",
       "       [ 64134,  52319,  48016, ...,  80938, 105589,  92008],\n",
       "       ...,\n",
       "       [   401,   2518,   1511, ...,   2260,   3574,   3936],\n",
       "       [   458,   2164,    540, ...,    977,   1302,    681],\n",
       "       [     0,      0,      0, ...,     10,      0,      0]],\n",
       "      dtype=uint32)"
      ]
     },
     "execution_count": 22,
     "metadata": {},
     "output_type": "execute_result"
    }
   ],
   "source": [
    "expr"
   ]
  },
  {
   "cell_type": "code",
   "execution_count": 23,
   "id": "4db92449",
   "metadata": {},
   "outputs": [],
   "source": [
    "lib_size = np.sum(expr, axis = 0)"
   ]
  },
  {
   "cell_type": "code",
   "execution_count": 24,
   "id": "33e57d9c",
   "metadata": {},
   "outputs": [
    {
     "data": {
      "text/plain": [
       "(375,)"
      ]
     },
     "execution_count": 24,
     "metadata": {},
     "output_type": "execute_result"
    }
   ],
   "source": [
    "lib_size.shape"
   ]
  },
  {
   "cell_type": "markdown",
   "id": "af4d6bb0",
   "metadata": {},
   "source": [
    "### Exercise\n",
    "Generate a 10 x 3 array of random numbers. From each row, pick the column containing the number closest to 0.75.\n",
    "\n",
    "Hint: use of np.abs and np.argmin to find the column j that contains the closest element in each row i. The final result should be a vector of integers of shape (10,)."
   ]
  },
  {
   "cell_type": "code",
   "execution_count": 25,
   "id": "86bb10b7",
   "metadata": {},
   "outputs": [
    {
     "data": {
      "text/plain": [
       "array([[0.81220397, 0.44879403, 0.3419217 ],\n",
       "       [0.64112982, 0.74969513, 0.86377329],\n",
       "       [0.67594181, 0.26591719, 0.13804945],\n",
       "       [0.38920969, 0.15899851, 0.60092571],\n",
       "       [0.10440618, 0.97534693, 0.64213615],\n",
       "       [0.12144515, 0.61871806, 0.50640066],\n",
       "       [0.77303995, 0.51560714, 0.47313884],\n",
       "       [0.13092766, 0.8824677 , 0.50382497],\n",
       "       [0.76463958, 0.70817438, 0.65848112],\n",
       "       [0.72771725, 0.14809122, 0.3845458 ]])"
      ]
     },
     "execution_count": 25,
     "metadata": {},
     "output_type": "execute_result"
    }
   ],
   "source": [
    "arr = np.random.random([10,3])\n",
    "arr"
   ]
  },
  {
   "cell_type": "code",
   "execution_count": 26,
   "id": "d4369120",
   "metadata": {},
   "outputs": [
    {
     "data": {
      "text/plain": [
       "array([[6.22039666e-02, 3.01205969e-01, 4.08078300e-01],\n",
       "       [1.08870179e-01, 3.04866798e-04, 1.13773295e-01],\n",
       "       [7.40581914e-02, 4.84082814e-01, 6.11950551e-01],\n",
       "       [3.60790311e-01, 5.91001487e-01, 1.49074294e-01],\n",
       "       [6.45593821e-01, 2.25346932e-01, 1.07863846e-01],\n",
       "       [6.28554846e-01, 1.31281937e-01, 2.43599339e-01],\n",
       "       [2.30399539e-02, 2.34392861e-01, 2.76861158e-01],\n",
       "       [6.19072337e-01, 1.32467697e-01, 2.46175031e-01],\n",
       "       [1.46395796e-02, 4.18256184e-02, 9.15188759e-02],\n",
       "       [2.22827489e-02, 6.01908777e-01, 3.65454198e-01]])"
      ]
     },
     "execution_count": 26,
     "metadata": {},
     "output_type": "execute_result"
    }
   ],
   "source": [
    "#Calculating the distance to 75\n",
    "dist75 = np.abs(arr - .75)\n",
    "dist75"
   ]
  },
  {
   "cell_type": "code",
   "execution_count": 27,
   "id": "293b98f6",
   "metadata": {},
   "outputs": [
    {
     "data": {
      "text/plain": [
       "array([0, 1, 0, 2, 2, 1, 0, 1, 0, 0], dtype=int64)"
      ]
     },
     "execution_count": 27,
     "metadata": {},
     "output_type": "execute_result"
    }
   ],
   "source": [
    "#Finding the indexes of smaller \n",
    "np.argmin(dist75, axis = 1)"
   ]
  },
  {
   "cell_type": "markdown",
   "id": "ff01934f",
   "metadata": {},
   "source": [
    "Some applications, such as clustering, are computationally expensive, and wouldn't work without first doing some form of feature selection, where we discard most of the data and keep only what we think will be most useful. One simple version is to keep only the genes with the most variance (as these will be more informative than genes that don't vary between patients).\n",
    "\n",
    "<li>Find the variance across patients of all the genes (rows) in the expression dataset.\n",
    "<li>Use np.argsort to find the location of the 1,500 most variable genes.\n",
    "<li>Use these indices to produce a shape (1500, 375) matrix containing only the most variable genes."
   ]
  },
  {
   "cell_type": "code",
   "execution_count": 28,
   "id": "744f7a4e",
   "metadata": {},
   "outputs": [],
   "source": [
    "#Calculating variances across the columns\n",
    "row_var = np.var(expr, axis = 1)"
   ]
  },
  {
   "cell_type": "code",
   "execution_count": 29,
   "id": "3b8cbcb4",
   "metadata": {},
   "outputs": [
    {
     "data": {
      "text/plain": [
       "(20500,)"
      ]
     },
     "execution_count": 29,
     "metadata": {},
     "output_type": "execute_result"
    }
   ],
   "source": [
    "row_var.shape"
   ]
  },
  {
   "cell_type": "code",
   "execution_count": 30,
   "id": "37ec689e",
   "metadata": {},
   "outputs": [],
   "source": [
    "#argsort sorts the array from low to high so most variable data is on the end\n",
    "row_variance_order = np.argsort(row_var)"
   ]
  },
  {
   "cell_type": "code",
   "execution_count": 31,
   "id": "4774200c",
   "metadata": {},
   "outputs": [],
   "source": [
    "#Getting most variable rows which are the last ones that's why negative indexing\n",
    "most_variable_rows = row_variance_order[-1500:]"
   ]
  },
  {
   "cell_type": "code",
   "execution_count": 32,
   "id": "0bcbd634",
   "metadata": {},
   "outputs": [],
   "source": [
    "#Fetching those into most_variable_data\n",
    "most_variable_data = expr[most_variable_rows]"
   ]
  },
  {
   "cell_type": "code",
   "execution_count": 33,
   "id": "1cbab74b",
   "metadata": {},
   "outputs": [
    {
     "data": {
      "text/plain": [
       "(1500, 375)"
      ]
     },
     "execution_count": 33,
     "metadata": {},
     "output_type": "execute_result"
    }
   ],
   "source": [
    "#Calculating the shape\n",
    "most_variable_data.shape"
   ]
  },
  {
   "cell_type": "markdown",
   "id": "f1b041ec",
   "metadata": {},
   "source": [
    "### Advanced operations: broadcasting\n",
    "In order to normalize every column by its corresponding library size, we have to align the two arrays' axes: each dimension must be either the same size, or one of the arrays must have size 1. Use np.newaxis to match the dimensions. But let's first do some simple examples:"
   ]
  },
  {
   "cell_type": "code",
   "execution_count": 34,
   "id": "9a4a7cdd",
   "metadata": {},
   "outputs": [
    {
     "data": {
      "text/plain": [
       "array([[100, 200,  50, 400],\n",
       "       [ 50,   0,   0, 100],\n",
       "       [350, 100,  50, 200]])"
      ]
     },
     "execution_count": 34,
     "metadata": {},
     "output_type": "execute_result"
    }
   ],
   "source": [
    "a"
   ]
  },
  {
   "cell_type": "code",
   "execution_count": 35,
   "id": "3542e36c",
   "metadata": {},
   "outputs": [
    {
     "data": {
      "text/plain": [
       "array([[105, 205,  55, 405],\n",
       "       [ 55,   5,   5, 105],\n",
       "       [355, 105,  55, 205]])"
      ]
     },
     "execution_count": 35,
     "metadata": {},
     "output_type": "execute_result"
    }
   ],
   "source": [
    "#Broadcasting\n",
    "a + 5"
   ]
  },
  {
   "cell_type": "code",
   "execution_count": 41,
   "id": "73424410",
   "metadata": {},
   "outputs": [
    {
     "data": {
      "text/plain": [
       "array([[101, 202,  53, 404],\n",
       "       [ 51,   2,   3, 104],\n",
       "       [351, 102,  53, 204]])"
      ]
     },
     "execution_count": 41,
     "metadata": {},
     "output_type": "execute_result"
    }
   ],
   "source": [
    "b = np.array([1 , 2, 3, 4])\n",
    "a + b"
   ]
  },
  {
   "cell_type": "code",
   "execution_count": 43,
   "id": "935d12c2",
   "metadata": {},
   "outputs": [],
   "source": [
    "# Cannot do these\n",
    "# b = np.array([1, 2, 3])\n",
    "# a + b"
   ]
  },
  {
   "cell_type": "code",
   "execution_count": 39,
   "id": "0829493b",
   "metadata": {},
   "outputs": [
    {
     "data": {
      "text/plain": [
       "array([[101, 201,  51, 401],\n",
       "       [ 52,   2,   2, 102],\n",
       "       [353, 103,  53, 203]])"
      ]
     },
     "execution_count": 39,
     "metadata": {},
     "output_type": "execute_result"
    }
   ],
   "source": [
    "b = np.array([[1], [2], [3]])\n",
    "a + b"
   ]
  },
  {
   "cell_type": "code",
   "execution_count": 40,
   "id": "8b156399",
   "metadata": {},
   "outputs": [
    {
     "data": {
      "text/plain": [
       "(3, 1)"
      ]
     },
     "execution_count": 40,
     "metadata": {},
     "output_type": "execute_result"
    }
   ],
   "source": [
    "b.shape"
   ]
  },
  {
   "cell_type": "code",
   "execution_count": 44,
   "id": "614808e3",
   "metadata": {},
   "outputs": [],
   "source": [
    "lib_size = np.sum(expr, axis = 0)"
   ]
  },
  {
   "cell_type": "code",
   "execution_count": 48,
   "id": "db5a7358",
   "metadata": {},
   "outputs": [
    {
     "name": "stdout",
     "output_type": "stream",
     "text": [
      "(20500, 375)\n",
      "(375,)\n",
      "(1, 375)\n"
     ]
    }
   ],
   "source": [
    "print(expr.shape)\n",
    "print(lib_size.shape)\n",
    "print(lib_size[np.newaxis, :].shape)"
   ]
  },
  {
   "cell_type": "code",
   "execution_count": 49,
   "id": "6d1f8bc5",
   "metadata": {},
   "outputs": [
    {
     "data": {
      "text/plain": [
       "True"
      ]
     },
     "execution_count": 49,
     "metadata": {},
     "output_type": "execute_result"
    }
   ],
   "source": [
    "np.all(expr / lib_size ==\n",
    "       expr / lib_size[np.newaxis, :])"
   ]
  },
  {
   "cell_type": "code",
   "execution_count": 50,
   "id": "bf11ce5b",
   "metadata": {},
   "outputs": [],
   "source": [
    "expr_lib = expr / lib_size"
   ]
  },
  {
   "cell_type": "code",
   "execution_count": 51,
   "id": "24d93c38",
   "metadata": {},
   "outputs": [],
   "source": [
    "expr_lib *= 1e6"
   ]
  },
  {
   "cell_type": "code",
   "execution_count": 54,
   "id": "85167345",
   "metadata": {},
   "outputs": [
    {
     "name": "stdout",
     "output_type": "stream",
     "text": [
      "(20500,)\n"
     ]
    }
   ],
   "source": [
    "gene_len = np.load('C:/Users/Dell/Desktop/data-set/gene-lens.npy')\n",
    "print(gene_len.shape)"
   ]
  },
  {
   "cell_type": "markdown",
   "id": "e2fbf04a",
   "metadata": {},
   "source": [
    "# Exercise: broadcast expr_lib and gene_len together to produce RPKM\n",
    "### Reminder:\n",
    "\n",
    " \n",
    " \n",
    "\n",
    "where \n",
    " <li>is the raw counts, \n",
    " <li>is the library size (in reads) and \n",
    " <li>is the gene length (in bases)."
   ]
  },
  {
   "cell_type": "code",
   "execution_count": 55,
   "id": "ff1cc0b5",
   "metadata": {},
   "outputs": [
    {
     "data": {
      "text/plain": [
       "(20500,)"
      ]
     },
     "execution_count": 55,
     "metadata": {},
     "output_type": "execute_result"
    }
   ],
   "source": [
    "gene_len.shape"
   ]
  },
  {
   "cell_type": "code",
   "execution_count": 56,
   "id": "36ddb265",
   "metadata": {},
   "outputs": [
    {
     "data": {
      "text/plain": [
       "(20500, 1)"
      ]
     },
     "execution_count": 56,
     "metadata": {},
     "output_type": "execute_result"
    }
   ],
   "source": [
    "#Right Aligning\n",
    "gene_len[:, np.newaxis].shape"
   ]
  },
  {
   "cell_type": "code",
   "execution_count": 57,
   "id": "ee42fa03",
   "metadata": {},
   "outputs": [
    {
     "data": {
      "text/plain": [
       "(20500, 375)"
      ]
     },
     "execution_count": 57,
     "metadata": {},
     "output_type": "execute_result"
    }
   ],
   "source": [
    "expr.shape"
   ]
  },
  {
   "cell_type": "code",
   "execution_count": 59,
   "id": "c59ff260",
   "metadata": {},
   "outputs": [],
   "source": [
    "rpkm = expr_lib / gene_len[:, np.newaxis] * 1e6"
   ]
  },
  {
   "cell_type": "code",
   "execution_count": 60,
   "id": "3b856b84",
   "metadata": {},
   "outputs": [
    {
     "data": {
      "text/plain": [
       "(20500, 375)"
      ]
     },
     "execution_count": 60,
     "metadata": {},
     "output_type": "execute_result"
    }
   ],
   "source": [
    "rpkm.shape"
   ]
  },
  {
   "cell_type": "code",
   "execution_count": null,
   "id": "2d3e1f51",
   "metadata": {},
   "outputs": [],
   "source": []
  },
  {
   "cell_type": "code",
   "execution_count": 61,
   "id": "ca38a961",
   "metadata": {},
   "outputs": [],
   "source": [
    "from matplotlib import pyplot as plt\n",
    "from scipy import stats\n",
    "\n",
    "def plot_col_density(data, xlim=None, *args, **kwargs):\n",
    "    # Use gaussian smoothing to estimate the density\n",
    "    density_per_col = [stats.kde.gaussian_kde(col) for col in data.T]\n",
    "    if xlim is not None:\n",
    "        m, M = xlim\n",
    "    else:\n",
    "        m, M = np.min(data), np.max(data)\n",
    "    x = np.linspace(m, M, 100)\n",
    "\n",
    "    fig, ax = plt.subplots()\n",
    "    for density in density_per_col:\n",
    "        ax.plot(x, density(x), *args, **kwargs)\n",
    "    ax.set_xlabel('log-counts')\n",
    "    ax.set_ylabel('frequency')\n",
    "    if xlim is not None:\n",
    "        ax.set_xlim(xlim)\n",
    "    plt.show()"
   ]
  },
  {
   "cell_type": "code",
   "execution_count": 62,
   "id": "2a8c044d",
   "metadata": {},
   "outputs": [],
   "source": [
    "%matplotlib inline\n",
    "%config InlineBackend.figure_format = 'retina'"
   ]
  },
  {
   "cell_type": "code",
   "execution_count": null,
   "id": "7016d5d8",
   "metadata": {},
   "outputs": [],
   "source": [
    "# plot_col_density(np.log(expr+1))"
   ]
  },
  {
   "cell_type": "code",
   "execution_count": 65,
   "id": "d0d445cc",
   "metadata": {},
   "outputs": [],
   "source": [
    "# plot_col_density(np.log(rpkm + 1), xlim=(0, 6))"
   ]
  },
  {
   "cell_type": "code",
   "execution_count": null,
   "id": "4be6347f",
   "metadata": {},
   "outputs": [],
   "source": []
  },
  {
   "cell_type": "code",
   "execution_count": 66,
   "id": "7c0f25d2",
   "metadata": {},
   "outputs": [],
   "source": [
    "x = np.random.random(size=(3, 5))\n",
    "y = np.random.randint(10, size=8)"
   ]
  },
  {
   "cell_type": "code",
   "execution_count": 67,
   "id": "02f3feb7",
   "metadata": {},
   "outputs": [
    {
     "data": {
      "text/plain": [
       "(3, 5)"
      ]
     },
     "execution_count": 67,
     "metadata": {},
     "output_type": "execute_result"
    }
   ],
   "source": [
    "x.shape"
   ]
  },
  {
   "cell_type": "code",
   "execution_count": 68,
   "id": "bb8be8a6",
   "metadata": {},
   "outputs": [],
   "source": [
    "z = x + y[:, np.newaxis, np.newaxis]"
   ]
  },
  {
   "cell_type": "code",
   "execution_count": 69,
   "id": "d5bc97e7",
   "metadata": {},
   "outputs": [
    {
     "data": {
      "text/plain": [
       "(8, 3, 5)"
      ]
     },
     "execution_count": 69,
     "metadata": {},
     "output_type": "execute_result"
    }
   ],
   "source": [
    "z.shape"
   ]
  },
  {
   "cell_type": "code",
   "execution_count": 70,
   "id": "fcff3f02",
   "metadata": {},
   "outputs": [],
   "source": [
    "z = x[..., np.newaxis] + y[np.newaxis, np.newaxis, :]"
   ]
  },
  {
   "cell_type": "code",
   "execution_count": 71,
   "id": "9f3c6dfe",
   "metadata": {},
   "outputs": [
    {
     "data": {
      "text/plain": [
       "(3, 5, 8)"
      ]
     },
     "execution_count": 71,
     "metadata": {},
     "output_type": "execute_result"
    }
   ],
   "source": [
    "z.shape"
   ]
  },
  {
   "cell_type": "code",
   "execution_count": null,
   "id": "228d778d",
   "metadata": {},
   "outputs": [],
   "source": []
  },
  {
   "cell_type": "code",
   "execution_count": 72,
   "id": "0b819f88",
   "metadata": {},
   "outputs": [
    {
     "data": {
      "text/plain": [
       "array([[1., 1., 1., 1., 1.],\n",
       "       [1., 1., 1., 1., 1.],\n",
       "       [1., 1., 1., 1., 1.],\n",
       "       [1., 1., 1., 1., 1.],\n",
       "       [1., 1., 1., 1., 1.]])"
      ]
     },
     "execution_count": 72,
     "metadata": {},
     "output_type": "execute_result"
    }
   ],
   "source": [
    "a = np.zeros((5, 5))\n",
    "b = np.ones((5, 5))\n",
    "a + b"
   ]
  },
  {
   "cell_type": "code",
   "execution_count": 73,
   "id": "3af72c66",
   "metadata": {},
   "outputs": [],
   "source": [
    "xbroad, ybroad = np.broadcast_arrays(x[..., np.newaxis], y)"
   ]
  },
  {
   "cell_type": "code",
   "execution_count": 74,
   "id": "95924913",
   "metadata": {},
   "outputs": [
    {
     "name": "stdout",
     "output_type": "stream",
     "text": [
      "number of elements: 120\n",
      "number of dimensions: 3\n",
      "shape: (3, 5, 8)\n",
      "data type: float64\n",
      "strides: (40, 8, 0)\n",
      "flags:\n",
      "  C_CONTIGUOUS : False\n",
      "  F_CONTIGUOUS : False\n",
      "  OWNDATA : False\n",
      "  WRITEABLE : True  (with WARN_ON_WRITE=True)\n",
      "  ALIGNED : True\n",
      "  WRITEBACKIFCOPY : False\n",
      "\n"
     ]
    }
   ],
   "source": [
    "print_info(xbroad)"
   ]
  },
  {
   "cell_type": "code",
   "execution_count": 77,
   "id": "b5c89540",
   "metadata": {},
   "outputs": [
    {
     "name": "stdout",
     "output_type": "stream",
     "text": [
      "number of elements: 120\n",
      "number of dimensions: 3\n",
      "shape: (3, 5, 8)\n",
      "data type: int32\n",
      "strides: (0, 0, 4)\n",
      "flags:\n",
      "  C_CONTIGUOUS : False\n",
      "  F_CONTIGUOUS : False\n",
      "  OWNDATA : False\n",
      "  WRITEABLE : True  (with WARN_ON_WRITE=True)\n",
      "  ALIGNED : True\n",
      "  WRITEBACKIFCOPY : False\n",
      "\n"
     ]
    }
   ],
   "source": [
    "print_info(ybroad)"
   ]
  },
  {
   "cell_type": "code",
   "execution_count": null,
   "id": "2c71da4a",
   "metadata": {},
   "outputs": [],
   "source": []
  },
  {
   "cell_type": "code",
   "execution_count": 78,
   "id": "9dcc427f",
   "metadata": {},
   "outputs": [],
   "source": [
    "def repeat(arr, n):\n",
    "    return np.lib.stride_tricks.as_strided(arr,\n",
    "                                           shape=(n,) + arr.shape,\n",
    "                                           strides=(0,) + arr.strides)"
   ]
  },
  {
   "cell_type": "code",
   "execution_count": 79,
   "id": "89f033f9",
   "metadata": {},
   "outputs": [
    {
     "name": "stdout",
     "output_type": "stream",
     "text": [
      "[0.27246524 0.66345837 0.56532283 0.10091585 0.12210325]\n"
     ]
    }
   ],
   "source": [
    "row = np.random.random(size=5)\n",
    "repeated_row = repeat(row, 4)\n",
    "print(row)"
   ]
  },
  {
   "cell_type": "code",
   "execution_count": 80,
   "id": "5e6fcd02",
   "metadata": {},
   "outputs": [
    {
     "name": "stdout",
     "output_type": "stream",
     "text": [
      "number of elements: 20\n",
      "number of dimensions: 2\n",
      "shape: (4, 5)\n",
      "data type: float64\n",
      "strides: (0, 8)\n",
      "flags:\n",
      "  C_CONTIGUOUS : False\n",
      "  F_CONTIGUOUS : False\n",
      "  OWNDATA : False\n",
      "  WRITEABLE : True\n",
      "  ALIGNED : True\n",
      "  WRITEBACKIFCOPY : False\n",
      "\n"
     ]
    }
   ],
   "source": [
    "print_info(repeated_row)"
   ]
  },
  {
   "cell_type": "code",
   "execution_count": 81,
   "id": "0bde0b47",
   "metadata": {},
   "outputs": [
    {
     "name": "stdout",
     "output_type": "stream",
     "text": [
      "number of elements: 20\n",
      "number of dimensions: 2\n",
      "shape: (4, 5)\n",
      "data type: float64\n",
      "strides: (8, 32)\n",
      "flags:\n",
      "  C_CONTIGUOUS : False\n",
      "  F_CONTIGUOUS : True\n",
      "  OWNDATA : True\n",
      "  WRITEABLE : True\n",
      "  ALIGNED : True\n",
      "  WRITEBACKIFCOPY : False\n",
      "\n"
     ]
    }
   ],
   "source": [
    "print_info(np.copy(repeated_row))"
   ]
  },
  {
   "cell_type": "code",
   "execution_count": null,
   "id": "5a1c9081",
   "metadata": {},
   "outputs": [],
   "source": []
  },
  {
   "cell_type": "code",
   "execution_count": 82,
   "id": "b1a1cf8b",
   "metadata": {},
   "outputs": [],
   "source": [
    "x = np.random.random((3, 2)).astype(np.float32)"
   ]
  },
  {
   "cell_type": "code",
   "execution_count": 83,
   "id": "03e195e9",
   "metadata": {},
   "outputs": [],
   "source": [
    "y = repeat(x, 4)"
   ]
  },
  {
   "cell_type": "code",
   "execution_count": 84,
   "id": "1275f6e7",
   "metadata": {},
   "outputs": [
    {
     "name": "stdout",
     "output_type": "stream",
     "text": [
      "number of elements: 6\n",
      "number of dimensions: 2\n",
      "shape: (3, 2)\n",
      "data type: float32\n",
      "strides: (8, 4)\n",
      "flags:\n",
      "  C_CONTIGUOUS : True\n",
      "  F_CONTIGUOUS : False\n",
      "  OWNDATA : True\n",
      "  WRITEABLE : True\n",
      "  ALIGNED : True\n",
      "  WRITEBACKIFCOPY : False\n",
      "\n"
     ]
    }
   ],
   "source": [
    "print_info(x)"
   ]
  },
  {
   "cell_type": "code",
   "execution_count": 86,
   "id": "b4a37c67",
   "metadata": {},
   "outputs": [
    {
     "name": "stdout",
     "output_type": "stream",
     "text": [
      "number of elements: 24\n",
      "number of dimensions: 3\n",
      "shape: (4, 3, 2)\n",
      "data type: float32\n",
      "strides: (0, 8, 4)\n",
      "flags:\n",
      "  C_CONTIGUOUS : False\n",
      "  F_CONTIGUOUS : False\n",
      "  OWNDATA : False\n",
      "  WRITEABLE : True\n",
      "  ALIGNED : True\n",
      "  WRITEBACKIFCOPY : False\n",
      "\n"
     ]
    }
   ],
   "source": [
    "print_info(y)"
   ]
  },
  {
   "cell_type": "code",
   "execution_count": null,
   "id": "11713376",
   "metadata": {},
   "outputs": [],
   "source": []
  },
  {
   "cell_type": "code",
   "execution_count": 87,
   "id": "d87e46a5",
   "metadata": {},
   "outputs": [],
   "source": [
    "def sliding_window(arr, size=2):\n",
    "    \"\"\"Produce an array of sliding window views of `arr`\n",
    "    \n",
    "    Parameters\n",
    "    ----------\n",
    "    arr : 1D array, shape (N,)\n",
    "        The input array.\n",
    "    size : int, optional\n",
    "        The size of the sliding window.\n",
    "        \n",
    "    Returns\n",
    "    -------\n",
    "    arr_slide : 2D array, shape (N - size + 1, size)\n",
    "        The sliding windows of size `size` of `arr`.\n",
    "        \n",
    "    Examples\n",
    "    --------\n",
    "    >>> a = np.array([0, 1, 2, 3])\n",
    "    >>> sliding_window(a, 2)\n",
    "    array([[0, 1],\n",
    "           [1, 2],\n",
    "           [2, 3]])\n",
    "    \"\"\"\n",
    "    stride = arr.strides[0]\n",
    "    n_windows = arr.size - size + 1\n",
    "    return np.lib.stride_tricks.as_strided(arr,\n",
    "                                           shape=(n_windows, size),\n",
    "                                           strides=(stride, stride))"
   ]
  },
  {
   "cell_type": "code",
   "execution_count": 88,
   "id": "aa192ffd",
   "metadata": {},
   "outputs": [
    {
     "data": {
      "text/plain": [
       "array([[0, 1, 2],\n",
       "       [1, 2, 3],\n",
       "       [2, 3, 4],\n",
       "       [3, 4, 5],\n",
       "       [4, 5, 6],\n",
       "       [5, 6, 7]])"
      ]
     },
     "execution_count": 88,
     "metadata": {},
     "output_type": "execute_result"
    }
   ],
   "source": [
    "# test your code here\n",
    "sliding_window(np.arange(8), 3)"
   ]
  },
  {
   "cell_type": "code",
   "execution_count": null,
   "id": "0daa83bd",
   "metadata": {},
   "outputs": [],
   "source": []
  },
  {
   "cell_type": "code",
   "execution_count": 89,
   "id": "4ac28a8d",
   "metadata": {},
   "outputs": [],
   "source": [
    "def mean_filter(signal, window_size=3):\n",
    "    \"\"\"Apply a mean filter to the input with the desired window size.\n",
    "    \n",
    "    Parameters\n",
    "    ----------\n",
    "    signal : 1D array, shape (M,)\n",
    "        The input signal.\n",
    "    window_size : int, optional\n",
    "        The size of the window along which to compute the mean.\n",
    "        \n",
    "    Returns\n",
    "    -------\n",
    "    filtered : 1D array, shape (M - window_size + 1,)\n",
    "        The filtered signal.\n",
    "    \"\"\"\n",
    "    signal_sliding = sliding_window(signal, window_size)\n",
    "    filtered = np.mean(signal_sliding, axis=1)\n",
    "    return filtered"
   ]
  },
  {
   "cell_type": "code",
   "execution_count": 92,
   "id": "1573774f",
   "metadata": {},
   "outputs": [],
   "source": [
    "# signal = np.zeros(100, np.float)\n",
    "# signal[30:60] = 1\n",
    "\n",
    "# diff = np.array([1, 0, -1])\n",
    "# from scipy import ndimage as ndi\n",
    "# dsignal = ndi.convolve(signal, diff)"
   ]
  },
  {
   "cell_type": "code",
   "execution_count": 93,
   "id": "19d1f8c2",
   "metadata": {},
   "outputs": [],
   "source": [
    "# fig, ax = plt.subplots(1, 2)\n",
    "# ax[0].plot(signal)\n",
    "# ax[0].set_title('signal')\n",
    "# ax[1].plot(dsignal)\n",
    "# ax[1].set_title('change')\n",
    "# fig.tight_layout()"
   ]
  },
  {
   "cell_type": "code",
   "execution_count": 95,
   "id": "f7f55e45",
   "metadata": {},
   "outputs": [],
   "source": [
    "# np.random.seed(0)\n",
    "# signal_noisy = signal + np.random.normal(0, 0.3, size=signal.shape)\n",
    "# dsignal_noisy = ndi.convolve(signal_noisy, diff)\n",
    "\n",
    "# fig, ax = plt.subplots(1, 2)\n",
    "# ax[0].plot(signal_noisy)\n",
    "# ax[0].set_title('signal')\n",
    "# ax[1].plot(dsignal_noisy)\n",
    "# ax[1].set_title('change')\n",
    "# fig.tight_layout()"
   ]
  },
  {
   "cell_type": "code",
   "execution_count": 97,
   "id": "b4849d1f",
   "metadata": {},
   "outputs": [],
   "source": [
    "# filtered_diff = ndi.convolve(mean_filter(signal_noisy, 5), diff)\n",
    "# fig, ax = plt.subplots()\n",
    "# ax.plot(filtered_diff)"
   ]
  },
  {
   "cell_type": "code",
   "execution_count": null,
   "id": "258b4e86",
   "metadata": {},
   "outputs": [],
   "source": []
  },
  {
   "cell_type": "code",
   "execution_count": 98,
   "id": "2cac25a5",
   "metadata": {},
   "outputs": [
    {
     "data": {
      "text/plain": [
       "[<matplotlib.lines.Line2D at 0x146c2106050>]"
      ]
     },
     "execution_count": 98,
     "metadata": {},
     "output_type": "execute_result"
    },
    {
     "data": {
      "image/png": "[encoded data removed]",
      "text/plain": [
       "<Figure size 640x480 with 1 Axes>"
      ]
     },
     "metadata": {
      "image/png": {
       "height": 413,
       "width": 556
      }
     },
     "output_type": "display_data"
    }
   ],
   "source": [
    "weight = np.exp(-(np.arange(-8, 9) / (8/3))**2)\n",
    "weight /= np.sum(weight)  ## ensure overall intensity of signal doesn't change\n",
    "fig, ax = plt.subplots()\n",
    "ax.plot(weight)"
   ]
  },
  {
   "cell_type": "code",
   "execution_count": 100,
   "id": "b5b98993",
   "metadata": {},
   "outputs": [],
   "source": [
    "# windows = sliding_window(signal_noisy, size=17)\n",
    "# print(windows.shape)\n",
    "# print(weight[np.newaxis, :].shape)"
   ]
  },
  {
   "cell_type": "code",
   "execution_count": 102,
   "id": "84901909",
   "metadata": {},
   "outputs": [],
   "source": [
    "# weighted = windows * weight\n",
    "# filtered_gaussian = np.sum(weighted, axis=1)\n",
    "# fig, ax = plt.subplots()\n",
    "# ax.plot(filtered_gaussian)"
   ]
  },
  {
   "cell_type": "code",
   "execution_count": 103,
   "id": "5d85c161",
   "metadata": {},
   "outputs": [],
   "source": [
    "# diff_gaussian = ndi.convolve(filtered_gaussian, diff)\n",
    "# fig, ax = plt.subplots()\n",
    "# ax.plot(diff_gaussian)"
   ]
  },
  {
   "cell_type": "code",
   "execution_count": null,
   "id": "b5c1c1e0",
   "metadata": {},
   "outputs": [],
   "source": []
  },
  {
   "cell_type": "code",
   "execution_count": 104,
   "id": "ce58914e",
   "metadata": {},
   "outputs": [
    {
     "name": "stdout",
     "output_type": "stream",
     "text": [
      "[[0 1 0 1]\n",
      " [1 2 0 2]\n",
      " [0 0 0 2]]\n",
      "[[ 0  5  0  5]\n",
      " [ 5 99  0 99]\n",
      " [ 0  0  0 99]]\n"
     ]
    }
   ],
   "source": [
    "values = np.array([0, 5, 99])\n",
    "selector = np.random.randint(0, 3, size=(3, 4))\n",
    "print(selector)\n",
    "print(values[selector])"
   ]
  },
  {
   "cell_type": "code",
   "execution_count": 105,
   "id": "4ce38e28",
   "metadata": {},
   "outputs": [
    {
     "data": {
      "text/plain": [
       "array([[ 5, 99, 99, 99,  0],\n",
       "       [ 5,  5,  5,  5,  5]])"
      ]
     },
     "execution_count": 105,
     "metadata": {},
     "output_type": "execute_result"
    }
   ],
   "source": [
    "values[np.array([[1, 2, 2, 2, 0], [1, 1, 1, 1, 1]])]"
   ]
  },
  {
   "cell_type": "code",
   "execution_count": 106,
   "id": "97b53f76",
   "metadata": {},
   "outputs": [],
   "source": [
    "values2d = np.array([[0, 5, 99],\n",
    "                     [8, 70, 80]])"
   ]
  },
  {
   "cell_type": "code",
   "execution_count": 107,
   "id": "c1c25d9e",
   "metadata": {},
   "outputs": [
    {
     "data": {
      "text/plain": [
       "80"
      ]
     },
     "execution_count": 107,
     "metadata": {},
     "output_type": "execute_result"
    }
   ],
   "source": [
    "values2d[1, 2]"
   ]
  },
  {
   "cell_type": "code",
   "execution_count": 108,
   "id": "7f0808ed",
   "metadata": {},
   "outputs": [
    {
     "data": {
      "text/plain": [
       "array([ 8, 80])"
      ]
     },
     "execution_count": 108,
     "metadata": {},
     "output_type": "execute_result"
    }
   ],
   "source": [
    "values2d[np.array([1]), np.array([0, 2])]"
   ]
  },
  {
   "cell_type": "code",
   "execution_count": 109,
   "id": "5b468c1f",
   "metadata": {},
   "outputs": [],
   "source": [
    "relabeled = values[selector]"
   ]
  },
  {
   "cell_type": "code",
   "execution_count": 110,
   "id": "0d69b1e8",
   "metadata": {},
   "outputs": [
    {
     "data": {
      "text/plain": [
       "array([[ 0,  5,  0,  5],\n",
       "       [ 5, 99,  0, 99],\n",
       "       [ 0,  0,  0, 99]])"
      ]
     },
     "execution_count": 110,
     "metadata": {},
     "output_type": "execute_result"
    }
   ],
   "source": [
    "relabeled"
   ]
  },
  {
   "cell_type": "code",
   "execution_count": 111,
   "id": "8ec06116",
   "metadata": {},
   "outputs": [
    {
     "data": {
      "text/plain": [
       "array([False,  True,  True])"
      ]
     },
     "execution_count": 111,
     "metadata": {},
     "output_type": "execute_result"
    }
   ],
   "source": [
    "has_large_cols = np.any(relabeled > 10, axis=1)\n",
    "has_large_cols"
   ]
  },
  {
   "cell_type": "code",
   "execution_count": 112,
   "id": "e0bee41d",
   "metadata": {},
   "outputs": [
    {
     "name": "stdout",
     "output_type": "stream",
     "text": [
      "[[ 5 99  0 99]\n",
      " [ 0  0  0 99]]\n"
     ]
    }
   ],
   "source": [
    "print(relabeled[has_large_cols])"
   ]
  },
  {
   "cell_type": "code",
   "execution_count": null,
   "id": "6fb4ecfc",
   "metadata": {},
   "outputs": [],
   "source": []
  },
  {
   "cell_type": "code",
   "execution_count": 113,
   "id": "ca96293c",
   "metadata": {},
   "outputs": [],
   "source": [
    "no99 = ~np.any(relabeled == 99, axis=0)"
   ]
  },
  {
   "cell_type": "code",
   "execution_count": 114,
   "id": "21645500",
   "metadata": {},
   "outputs": [],
   "source": [
    "large_cols_idx = np.nonzero(has_large_cols)[0][:, np.newaxis]"
   ]
  },
  {
   "cell_type": "code",
   "execution_count": 115,
   "id": "23568a2c",
   "metadata": {},
   "outputs": [],
   "source": [
    "no99_idx = np.nonzero(no99)[0][np.newaxis, :]"
   ]
  },
  {
   "cell_type": "code",
   "execution_count": 116,
   "id": "7218794a",
   "metadata": {},
   "outputs": [
    {
     "data": {
      "text/plain": [
       "array([[5, 0],\n",
       "       [0, 0]])"
      ]
     },
     "execution_count": 116,
     "metadata": {},
     "output_type": "execute_result"
    }
   ],
   "source": [
    "relabeled[large_cols_idx, no99_idx]"
   ]
  },
  {
   "cell_type": "code",
   "execution_count": null,
   "id": "92c136ac",
   "metadata": {},
   "outputs": [],
   "source": []
  },
  {
   "cell_type": "code",
   "execution_count": 119,
   "id": "221f0c61",
   "metadata": {},
   "outputs": [],
   "source": [
    "# numexpr, numba"
   ]
  },
  {
   "cell_type": "code",
   "execution_count": 120,
   "id": "0cfe8d1e",
   "metadata": {},
   "outputs": [],
   "source": [
    "# z = x + y + q ** 2"
   ]
  },
  {
   "cell_type": "code",
   "execution_count": 122,
   "id": "e8d0b8d0",
   "metadata": {},
   "outputs": [],
   "source": [
    "# def qnorm(X):\n",
    "#     \"\"\"Quantile normalize an input matrix.\n",
    "    \n",
    "#     Parameters\n",
    "#     ----------\n",
    "#     X : 2D array of float, shape (M, N)\n",
    "#         The input data, with each column being a\n",
    "#         distribution to normalize.\n",
    "        \n",
    "#     Returns\n",
    "#     -------\n",
    "#     Xn : 2D array of float, shape (M, N)\n",
    "#         The normalized data.\n",
    "#     \"\"\"\n",
    "#     ranks = \n",
    "#     return Xn"
   ]
  },
  {
   "cell_type": "code",
   "execution_count": null,
   "id": "cf809dfb",
   "metadata": {},
   "outputs": [],
   "source": []
  }
 ],
 "metadata": {
  "kernelspec": {
   "display_name": "Python 3 (ipykernel)",
   "language": "python",
   "name": "python3"
  },
  "language_info": {
   "codemirror_mode": {
    "name": "ipython",
    "version": 3
   },
   "file_extension": ".py",
   "mimetype": "text/x-python",
   "name": "python",
   "nbconvert_exporter": "python",
   "pygments_lexer": "ipython3",
   "version": "3.11.2"
  }
 },
 "nbformat": 4,
 "nbformat_minor": 5
}
