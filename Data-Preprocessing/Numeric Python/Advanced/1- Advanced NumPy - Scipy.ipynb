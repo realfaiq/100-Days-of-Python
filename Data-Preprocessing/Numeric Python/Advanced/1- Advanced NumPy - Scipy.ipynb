{
 "cells": [
  {
   "cell_type": "markdown",
   "id": "6085be1d",
   "metadata": {},
   "source": [
    "### Bad Data"
   ]
  },
  {
   "cell_type": "code",
   "execution_count": 20,
   "id": "bbac8690",
   "metadata": {},
   "outputs": [],
   "source": [
    "gene0 = [100, 200, 50, 400]\n",
    "gene1 = [50, 0, 0, 100]\n",
    "gene2 = [350, 100, 50, 200]\n",
    "expression_data = [gene0, gene1, gene2]"
   ]
  },
  {
   "cell_type": "markdown",
   "id": "2521884a",
   "metadata": {},
   "source": [
    "<i>Because the data in the lists are not contegious one is stored somewhere in the memory having a reference count and the other\n",
    "somewhere else while numPy array creates one object as a whole having one reference count of that and contegious.</i>"
   ]
  },
  {
   "cell_type": "code",
   "execution_count": 21,
   "id": "be0fa06a",
   "metadata": {},
   "outputs": [
    {
     "data": {
      "text/plain": [
       "[[100, 200, 50, 400], [50, 0, 0, 100], [350, 100, 50, 200]]"
      ]
     },
     "execution_count": 21,
     "metadata": {},
     "output_type": "execute_result"
    }
   ],
   "source": [
    "expression_data"
   ]
  },
  {
   "cell_type": "markdown",
   "id": "48fb86f6",
   "metadata": {},
   "source": [
    "### NumPy"
   ]
  },
  {
   "cell_type": "code",
   "execution_count": 22,
   "id": "40063b53",
   "metadata": {},
   "outputs": [
    {
     "name": "stdout",
     "output_type": "stream",
     "text": [
      "[[100 200  50 400]\n",
      " [ 50   0   0 100]\n",
      " [350 100  50 200]]\n"
     ]
    }
   ],
   "source": [
    "import numpy as np\n",
    "a = np.array(expression_data)\n",
    "print(a)"
   ]
  },
  {
   "cell_type": "markdown",
   "id": "fe93f23a",
   "metadata": {},
   "source": [
    "We are going to:\n",
    "\n",
    "<ul>\n",
    "<li> Obtain an RPKM expression matrix\n",
    "<li>Quantile normalize the data \n",
    "</ul>\n",
    "using the awesome power of NumPy"
   ]
  },
  {
   "cell_type": "markdown",
   "id": "c9960e87",
   "metadata": {},
   "source": [
    "### Inside a numPy nd Array"
   ]
  },
  {
   "cell_type": "code",
   "execution_count": 23,
   "id": "aca6e761",
   "metadata": {},
   "outputs": [
    {
     "name": "stdout",
     "output_type": "stream",
     "text": [
      "number of elements: 12\n",
      "number of dimensions: 2\n",
      "shape: (3, 4)\n",
      "data type: int32\n",
      "strides: (16, 4)\n",
      "flags:\n",
      "  C_CONTIGUOUS : True\n",
      "  F_CONTIGUOUS : False\n",
      "  OWNDATA : True\n",
      "  WRITEABLE : True\n",
      "  ALIGNED : True\n",
      "  WRITEBACKIFCOPY : False\n",
      "\n"
     ]
    }
   ],
   "source": [
    "def print_info(a):\n",
    "    print('number of elements:', a.size)\n",
    "    print('number of dimensions:', a.ndim)\n",
    "    print('shape:', a.shape)\n",
    "    print('data type:', a.dtype)\n",
    "    print('strides:', a.strides)\n",
    "    print('flags:')\n",
    "    print(a.flags)\n",
    "    \n",
    "print_info(a)"
   ]
  },
  {
   "cell_type": "code",
   "execution_count": 24,
   "id": "fcf9fa72",
   "metadata": {},
   "outputs": [
    {
     "name": "stdout",
     "output_type": "stream",
     "text": [
      "<memory at 0x000001FE95287780>\n"
     ]
    }
   ],
   "source": [
    "print(a.data)"
   ]
  },
  {
   "cell_type": "markdown",
   "id": "bfffa9ed",
   "metadata": {},
   "source": [
    "### Ravel\n",
    "<i>Changes the dimesion of array to 1d<i/>"
   ]
  },
  {
   "cell_type": "code",
   "execution_count": 29,
   "id": "2230f066",
   "metadata": {},
   "outputs": [
    {
     "data": {
      "text/plain": [
       "(12,)"
      ]
     },
     "execution_count": 29,
     "metadata": {},
     "output_type": "execute_result"
    }
   ],
   "source": [
    "a.ravel().shape"
   ]
  },
  {
   "cell_type": "code",
   "execution_count": 30,
   "id": "7646aca6",
   "metadata": {},
   "outputs": [],
   "source": [
    "abytes = a.ravel().view(dtype = np.uint8)"
   ]
  },
  {
   "cell_type": "code",
   "execution_count": 31,
   "id": "5fd2ba96",
   "metadata": {},
   "outputs": [
    {
     "name": "stdout",
     "output_type": "stream",
     "text": [
      "number of elements: 48\n",
      "number of dimensions: 1\n",
      "shape: (48,)\n",
      "data type: uint8\n",
      "strides: (1,)\n",
      "flags:\n",
      "  C_CONTIGUOUS : True\n",
      "  F_CONTIGUOUS : True\n",
      "  OWNDATA : False\n",
      "  WRITEABLE : True\n",
      "  ALIGNED : True\n",
      "  WRITEBACKIFCOPY : False\n",
      "\n"
     ]
    }
   ],
   "source": [
    "print_info(abytes)"
   ]
  },
  {
   "cell_type": "code",
   "execution_count": 28,
   "id": "e55dfdf8",
   "metadata": {},
   "outputs": [
    {
     "name": "stdout",
     "output_type": "stream",
     "text": [
      "[100   0   0   0 200   0   0   0  50   0   0   0 144   1   0   0  50   0\n",
      "   0   0   0   0   0   0]\n"
     ]
    }
   ],
   "source": [
    "print(abytes[:24])"
   ]
  },
  {
   "cell_type": "markdown",
   "id": "8341b238",
   "metadata": {},
   "source": [
    "### Example of Transpose"
   ]
  },
  {
   "cell_type": "code",
   "execution_count": 32,
   "id": "f1f5bdaa",
   "metadata": {},
   "outputs": [
    {
     "name": "stdout",
     "output_type": "stream",
     "text": [
      "number of elements: 12\n",
      "number of dimensions: 2\n",
      "shape: (3, 4)\n",
      "data type: int32\n",
      "strides: (16, 4)\n",
      "flags:\n",
      "  C_CONTIGUOUS : True\n",
      "  F_CONTIGUOUS : False\n",
      "  OWNDATA : True\n",
      "  WRITEABLE : True\n",
      "  ALIGNED : True\n",
      "  WRITEBACKIFCOPY : False\n",
      "\n"
     ]
    }
   ],
   "source": [
    "print_info(a)"
   ]
  },
  {
   "cell_type": "code",
   "execution_count": 34,
   "id": "cda9b524",
   "metadata": {},
   "outputs": [
    {
     "name": "stdout",
     "output_type": "stream",
     "text": [
      "number of elements: 12\n",
      "number of dimensions: 2\n",
      "shape: (4, 3)\n",
      "data type: int32\n",
      "strides: (4, 16)\n",
      "flags:\n",
      "  C_CONTIGUOUS : False\n",
      "  F_CONTIGUOUS : True\n",
      "  OWNDATA : False\n",
      "  WRITEABLE : True\n",
      "  ALIGNED : True\n",
      "  WRITEBACKIFCOPY : False\n",
      "\n"
     ]
    }
   ],
   "source": [
    "print_info(a.T)"
   ]
  },
  {
   "cell_type": "code",
   "execution_count": 35,
   "id": "a5a3cdab",
   "metadata": {},
   "outputs": [
    {
     "name": "stdout",
     "output_type": "stream",
     "text": [
      "number of elements: 6\n",
      "number of dimensions: 2\n",
      "shape: (2, 3)\n",
      "data type: int32\n",
      "strides: (8, 16)\n",
      "flags:\n",
      "  C_CONTIGUOUS : False\n",
      "  F_CONTIGUOUS : False\n",
      "  OWNDATA : False\n",
      "  WRITEABLE : True\n",
      "  ALIGNED : True\n",
      "  WRITEBACKIFCOPY : False\n",
      "\n"
     ]
    }
   ],
   "source": [
    "#Every 2nd row of a\n",
    "print_info(a.T[::2])"
   ]
  },
  {
   "cell_type": "code",
   "execution_count": 36,
   "id": "2f32f73f",
   "metadata": {},
   "outputs": [
    {
     "name": "stdout",
     "output_type": "stream",
     "text": [
      "number of elements: 3\n",
      "number of dimensions: 2\n",
      "shape: (1, 3)\n",
      "data type: int32\n",
      "strides: (16, 16)\n",
      "flags:\n",
      "  C_CONTIGUOUS : False\n",
      "  F_CONTIGUOUS : False\n",
      "  OWNDATA : False\n",
      "  WRITEABLE : True\n",
      "  ALIGNED : True\n",
      "  WRITEBACKIFCOPY : False\n",
      "\n"
     ]
    }
   ],
   "source": [
    "#Skip every 2nd Column\n",
    "print_info(a.T[::2][::2])"
   ]
  },
  {
   "cell_type": "markdown",
   "id": "09281dbb",
   "metadata": {},
   "source": [
    "### Copying\n",
    "<i>If we don't use a copy() then if you modify copy it will modify the original array<i/>  "
   ]
  },
  {
   "cell_type": "code",
   "execution_count": 37,
   "id": "9f707645",
   "metadata": {},
   "outputs": [],
   "source": [
    "b = a.copy()"
   ]
  },
  {
   "cell_type": "code",
   "execution_count": 38,
   "id": "950e9b4d",
   "metadata": {},
   "outputs": [],
   "source": [
    "b[0][0] = 1"
   ]
  },
  {
   "cell_type": "code",
   "execution_count": 39,
   "id": "f0a19357",
   "metadata": {},
   "outputs": [
    {
     "data": {
      "text/plain": [
       "array([[100, 200,  50, 400],\n",
       "       [ 50,   0,   0, 100],\n",
       "       [350, 100,  50, 200]])"
      ]
     },
     "execution_count": 39,
     "metadata": {},
     "output_type": "execute_result"
    }
   ],
   "source": [
    "a"
   ]
  },
  {
   "cell_type": "code",
   "execution_count": 40,
   "id": "2c536628",
   "metadata": {},
   "outputs": [
    {
     "data": {
      "text/plain": [
       "array([[  1, 200,  50, 400],\n",
       "       [ 50,   0,   0, 100],\n",
       "       [350, 100,  50, 200]])"
      ]
     },
     "execution_count": 40,
     "metadata": {},
     "output_type": "execute_result"
    }
   ],
   "source": [
    "b"
   ]
  },
  {
   "cell_type": "markdown",
   "id": "9621f6cf",
   "metadata": {},
   "source": [
    "### Advanced Operations - Axis wise Operations"
   ]
  },
  {
   "cell_type": "code",
   "execution_count": 41,
   "id": "2cf9320d",
   "metadata": {},
   "outputs": [],
   "source": [
    "expr = np.load('C:/Users/Dell/Desktop/data-set/expr.npy')"
   ]
  },
  {
   "cell_type": "code",
   "execution_count": 42,
   "id": "aaf68ee4",
   "metadata": {},
   "outputs": [
    {
     "name": "stdout",
     "output_type": "stream",
     "text": [
      "number of elements: 7687500\n",
      "number of dimensions: 2\n",
      "shape: (20500, 375)\n",
      "data type: uint32\n",
      "strides: (4, 82000)\n",
      "flags:\n",
      "  C_CONTIGUOUS : False\n",
      "  F_CONTIGUOUS : True\n",
      "  OWNDATA : False\n",
      "  WRITEABLE : True\n",
      "  ALIGNED : True\n",
      "  WRITEBACKIFCOPY : False\n",
      "\n"
     ]
    }
   ],
   "source": [
    "print_info(expr)"
   ]
  },
  {
   "cell_type": "code",
   "execution_count": 43,
   "id": "0c36f28e",
   "metadata": {},
   "outputs": [
    {
     "data": {
      "text/plain": [
       "array([[     0,      0,      0, ...,      0,     18,      0],\n",
       "       [    12,      1,      0, ...,      2,      3,      4],\n",
       "       [ 64134,  52319,  48016, ...,  80938, 105589,  92008],\n",
       "       ...,\n",
       "       [   401,   2518,   1511, ...,   2260,   3574,   3936],\n",
       "       [   458,   2164,    540, ...,    977,   1302,    681],\n",
       "       [     0,      0,      0, ...,     10,      0,      0]],\n",
       "      dtype=uint32)"
      ]
     },
     "execution_count": 43,
     "metadata": {},
     "output_type": "execute_result"
    }
   ],
   "source": [
    "expr"
   ]
  },
  {
   "cell_type": "code",
   "execution_count": 49,
   "id": "4db92449",
   "metadata": {},
   "outputs": [],
   "source": [
    "lib_size = np.sum(expr, axis = 0)"
   ]
  },
  {
   "cell_type": "code",
   "execution_count": 50,
   "id": "33e57d9c",
   "metadata": {},
   "outputs": [
    {
     "data": {
      "text/plain": [
       "(375,)"
      ]
     },
     "execution_count": 50,
     "metadata": {},
     "output_type": "execute_result"
    }
   ],
   "source": [
    "lib_size.shape"
   ]
  },
  {
   "cell_type": "markdown",
   "id": "af4d6bb0",
   "metadata": {},
   "source": [
    "### Exercise\n",
    "Generate a 10 x 3 array of random numbers. From each row, pick the column containing the number closest to 0.75.\n",
    "\n",
    "Hint: use of np.abs and np.argmin to find the column j that contains the closest element in each row i. The final result should be a vector of integers of shape (10,)."
   ]
  },
  {
   "cell_type": "code",
   "execution_count": 67,
   "id": "86bb10b7",
   "metadata": {},
   "outputs": [
    {
     "data": {
      "text/plain": [
       "array([[0.07506394, 0.82672314, 0.44095307],\n",
       "       [0.5263868 , 0.48211759, 0.40643381],\n",
       "       [0.3884669 , 0.97388789, 0.94050266],\n",
       "       [0.12874161, 0.7938523 , 0.56989516],\n",
       "       [0.70608401, 0.7328268 , 0.01786306],\n",
       "       [0.11965857, 0.6651817 , 0.20168702],\n",
       "       [0.62882159, 0.33357717, 0.68965073],\n",
       "       [0.94132767, 0.28853721, 0.03615567],\n",
       "       [0.37149997, 0.51458824, 0.23048516],\n",
       "       [0.10881851, 0.20326419, 0.90428299]])"
      ]
     },
     "execution_count": 67,
     "metadata": {},
     "output_type": "execute_result"
    }
   ],
   "source": [
    "arr = np.random.random([10,3])\n",
    "arr"
   ]
  },
  {
   "cell_type": "code",
   "execution_count": 68,
   "id": "d4369120",
   "metadata": {},
   "outputs": [
    {
     "data": {
      "text/plain": [
       "array([[0.67493606, 0.07672314, 0.30904693],\n",
       "       [0.2236132 , 0.26788241, 0.34356619],\n",
       "       [0.3615331 , 0.22388789, 0.19050266],\n",
       "       [0.62125839, 0.0438523 , 0.18010484],\n",
       "       [0.04391599, 0.0171732 , 0.73213694],\n",
       "       [0.63034143, 0.0848183 , 0.54831298],\n",
       "       [0.12117841, 0.41642283, 0.06034927],\n",
       "       [0.19132767, 0.46146279, 0.71384433],\n",
       "       [0.37850003, 0.23541176, 0.51951484],\n",
       "       [0.64118149, 0.54673581, 0.15428299]])"
      ]
     },
     "execution_count": 68,
     "metadata": {},
     "output_type": "execute_result"
    }
   ],
   "source": [
    "#Calculating the distance to 75\n",
    "dist75 = np.abs(arr - .75)\n",
    "dist75"
   ]
  },
  {
   "cell_type": "code",
   "execution_count": 70,
   "id": "293b98f6",
   "metadata": {},
   "outputs": [
    {
     "data": {
      "text/plain": [
       "array([1, 0, 2, 1, 1, 1, 2, 0, 1, 2], dtype=int64)"
      ]
     },
     "execution_count": 70,
     "metadata": {},
     "output_type": "execute_result"
    }
   ],
   "source": [
    "#Finding the indexes of smaller \n",
    "np.argmin(dist75, axis = 1)"
   ]
  },
  {
   "cell_type": "markdown",
   "id": "ff01934f",
   "metadata": {},
   "source": [
    "Some applications, such as clustering, are computationally expensive, and wouldn't work without first doing some form of feature selection, where we discard most of the data and keep only what we think will be most useful. One simple version is to keep only the genes with the most variance (as these will be more informative than genes that don't vary between patients).\n",
    "\n",
    "<li>Find the variance across patients of all the genes (rows) in the expression dataset.\n",
    "<li>Use np.argsort to find the location of the 1,500 most variable genes.\n",
    "<li>Use these indices to produce a shape (1500, 375) matrix containing only the most variable genes."
   ]
  },
  {
   "cell_type": "code",
   "execution_count": 74,
   "id": "744f7a4e",
   "metadata": {},
   "outputs": [],
   "source": [
    "#Calculating variances across the columns\n",
    "row_var = np.var(expr, axis = 1)"
   ]
  },
  {
   "cell_type": "code",
   "execution_count": 75,
   "id": "3b8cbcb4",
   "metadata": {},
   "outputs": [
    {
     "data": {
      "text/plain": [
       "(20500,)"
      ]
     },
     "execution_count": 75,
     "metadata": {},
     "output_type": "execute_result"
    }
   ],
   "source": [
    "row_var.shape"
   ]
  },
  {
   "cell_type": "code",
   "execution_count": 76,
   "id": "37ec689e",
   "metadata": {},
   "outputs": [],
   "source": [
    "#argsort sorts the array from low to high so most variable data is on the end\n",
    "row_variance_order = np.argsort(row_var)"
   ]
  },
  {
   "cell_type": "code",
   "execution_count": 79,
   "id": "4774200c",
   "metadata": {},
   "outputs": [],
   "source": [
    "#Getting most variable rows which are the last ones that's why negative indexing\n",
    "most_variable_rows = row_variance_order[-1500:]"
   ]
  },
  {
   "cell_type": "code",
   "execution_count": 81,
   "id": "0bcbd634",
   "metadata": {},
   "outputs": [],
   "source": [
    "#Fetching those into most_variable_data\n",
    "most_variable_data = expr[most_variable_rows]"
   ]
  },
  {
   "cell_type": "code",
   "execution_count": 83,
   "id": "1cbab74b",
   "metadata": {},
   "outputs": [
    {
     "data": {
      "text/plain": [
       "(1500, 375)"
      ]
     },
     "execution_count": 83,
     "metadata": {},
     "output_type": "execute_result"
    }
   ],
   "source": [
    "#Calculating the shape\n",
    "most_variable_data.shape"
   ]
  },
  {
   "cell_type": "code",
   "execution_count": null,
   "id": "a4c54aa3",
   "metadata": {},
   "outputs": [],
   "source": []
  }
 ],
 "metadata": {
  "kernelspec": {
   "display_name": "Python 3 (ipykernel)",
   "language": "python",
   "name": "python3"
  },
  "language_info": {
   "codemirror_mode": {
    "name": "ipython",
    "version": 3
   },
   "file_extension": ".py",
   "mimetype": "text/x-python",
   "name": "python",
   "nbconvert_exporter": "python",
   "pygments_lexer": "ipython3",
   "version": "3.11.2"
  }
 },
 "nbformat": 4,
 "nbformat_minor": 5
}
